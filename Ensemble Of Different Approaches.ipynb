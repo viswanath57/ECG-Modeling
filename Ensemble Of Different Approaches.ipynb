{
 "cells": [
  {
   "cell_type": "code",
   "execution_count": null,
   "metadata": {},
   "outputs": [],
   "source": [
    "import sys\n",
    "sys.version"
   ]
  },
  {
   "cell_type": "code",
   "execution_count": 2,
   "metadata": {},
   "outputs": [],
   "source": [
    "import sys\n",
    "import os\n",
    "\n",
    "import numpy as np\n",
    "from tensorflow.keras.preprocessing import sequence\n",
    "from tensorflow.keras.models import Sequential, Model\n",
    "from tensorflow.keras import layers\n",
    "from tensorflow.keras.optimizers import RMSprop\n",
    "import pickle\n",
    "\n",
    "import random\n",
    "\n",
    "\n",
    "import pandas as pd\n",
    "from sklearn import preprocessing\n",
    "from sklearn.linear_model import LogisticRegression\n",
    "from sklearn.metrics import confusion_matrix\n",
    "from sklearn import svm\n",
    "from sklearn.neural_network import MLPClassifier\n",
    "import numpy as np\n",
    "\n",
    "from  tensorflow.keras.callbacks import ModelCheckpoint\n",
    "from  collections import Counter"
   ]
  },
  {
   "cell_type": "code",
   "execution_count": 26,
   "metadata": {},
   "outputs": [
    {
     "name": "stdout",
     "output_type": "stream",
     "text": [
      "['heart_rate', 'P_Wave', 'PR_Segment', 'PR_Interval', 'QRS_Complex', 'ST_Segment', 'T_Wave', 'QT_Interval', 'QTc_Interval', 'RR_Interval', 'QRS_Axis_EAD', 'QRS_Axis_LAD', 'QRS_Axis_Normal', 'QRS_Axis_RAD']\n"
     ]
    }
   ],
   "source": [
    "ECG_Scans_processed = pd.read_csv('../Backup/metrics_processed.txt')\n",
    "\n",
    "ECG_Scans_processed['ScanId'] = ECG_Scans_processed['file_name'].apply(lambda x:x.split('_')[0])\n",
    "categorical_predictors = ['QRS_Axis']\n",
    "ECG_Scans_processed_modified = pd.get_dummies(ECG_Scans_processed, columns= categorical_predictors)\n",
    "\n",
    "predictors = list(ECG_Scans_processed_modified.columns)\n",
    "for eEle in ['ScanId', 'file_name']:\n",
    "    predictors.remove(eEle)\n",
    "print(predictors)\n",
    "\n",
    "\n",
    "PredictorsDF = ECG_Scans_processed_modified.loc[:, predictors]\n",
    "min_max_scaler = preprocessing.MinMaxScaler()\n",
    "PredictorsDF   = pd.DataFrame( min_max_scaler.fit_transform(PredictorsDF) )\n",
    "ECG_Scans_processed_modified = ECG_Scans_processed_modified.loc[ :, [ 'ScanId', 'file_name'] ].join(PredictorsDF)\n",
    "\n",
    "ScanDictLeadII = {}\n",
    "for escan in ECG_Scans_processed_modified.values.tolist():\n",
    "    scandId = escan[0]\n",
    "    if scandId in ScanDictLeadII:\n",
    "        ScanDictLeadII[scandId].append(escan[2:])\n",
    "    else:\n",
    "        ScanDictLeadII[scandId] = []\n",
    "        ScanDictLeadII[scandId].append(escan[2:])      \n",
    "for scanId in ScanDictLeadII:\n",
    "    ScanDictLeadII[scanId].sort( key=lambda x: x[0] ) # In place sorting\n",
    "\n"
   ]
  },
  {
   "cell_type": "code",
   "execution_count": 38,
   "metadata": {},
   "outputs": [],
   "source": [
    "baseDir = '../Backup/raw_ecg_processed_lead_new/'\n",
    "\n",
    "\n",
    "ScanDictRawECG = {}\n",
    "for scanIdx, scanId in enumerate( os.listdir(baseDir)):\n",
    "    if scanId not in ScanDictRawECG:\n",
    "        ScanDictRawECG[scanId] = []\n",
    "    tlist = open(os.path.join(baseDir, scanId) ).read().split('\\n')\n",
    "    for eentry in tlist[250*5 : -250*5]:        \n",
    "        eentry = eentry.split('\\t')\n",
    "        if len(eentry) >= 12:\n",
    "            eentry = [ int(ee) for ee in eentry[0:12] ]\n",
    "            ScanDictRawECG[scanId].append(eentry)        \n",
    "            "
   ]
  },
  {
   "cell_type": "code",
   "execution_count": 43,
   "metadata": {},
   "outputs": [
    {
     "name": "stdout",
     "output_type": "stream",
     "text": [
      "['CLI0200@5@73201718243468764', 'NORMAL', 'Normal ECG']\n"
     ]
    }
   ],
   "source": [
    "resDir='../Backup/classifier_data_set.txt'\n",
    "# Loading Scands Ids with (AR)Rhythm Type\n",
    "\n",
    "list_of_ecg_scans_with_rhythm_type = {}\n",
    "for erecord in open(resDir).readlines():\n",
    "    erecord = erecord.strip('\\n,').split(',')[0:3] # Col1: ScanId, Col2: Normal/Abnormal Col3: Specific Type of DysRhythm (if any)\n",
    "    list_of_ecg_scans_with_rhythm_type[erecord[0]] = erecord\n",
    "\n",
    "print(list_of_ecg_scans_with_rhythm_type['CLI0200@5@73201718243468764'])"
   ]
  },
  {
   "cell_type": "code",
   "execution_count": 49,
   "metadata": {},
   "outputs": [],
   "source": [
    "noData = 0 \n",
    "RawEcgScan    = []\n",
    "LeadIIEcgScan = []\n",
    "scanTypesInt  = []\n",
    "for eScanId in set( ScanDictLeadII.keys()  ).intersection ( set( ScanDictRawECG.keys() ) ) :\n",
    "    if len(ScanDictRawECG[eScanId]) == 0:\n",
    "        noData += 1\n",
    "    RawEcgScan.append    ( ScanDictRawECG[eScanId] )\n",
    "    LeadIIEcgScan.append ( ScanDictLeadII[eScanId] )\n",
    "    if list_of_ecg_scans_with_rhythm_type[eScanId][1] == 'NORMAL':\n",
    "        scanTypesInt.append(0)\n",
    "    else:\n",
    "        scanTypesInt.append(1)\n",
    "        "
   ]
  },
  {
   "cell_type": "code",
   "execution_count": 58,
   "metadata": {},
   "outputs": [
    {
     "data": {
      "text/plain": [
       "Counter({1: 330, 0: 764})"
      ]
     },
     "execution_count": 58,
     "metadata": {},
     "output_type": "execute_result"
    }
   ],
   "source": [
    "Counter(scanTypesInt)"
   ]
  },
  {
   "cell_type": "code",
   "execution_count": null,
   "metadata": {},
   "outputs": [],
   "source": []
  }
 ],
 "metadata": {
  "kernelspec": {
   "display_name": "Python 3",
   "language": "python",
   "name": "python3"
  },
  "language_info": {
   "codemirror_mode": {
    "name": "ipython",
    "version": 3
   },
   "file_extension": ".py",
   "mimetype": "text/x-python",
   "name": "python",
   "nbconvert_exporter": "python",
   "pygments_lexer": "ipython3",
   "version": "3.7.4"
  }
 },
 "nbformat": 4,
 "nbformat_minor": 2
}
